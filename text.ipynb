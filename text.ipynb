{
 "cells": [
  {
   "cell_type": "code",
   "execution_count": 3,
   "id": "013592fd",
   "metadata": {},
   "outputs": [],
   "source": [
    "from openai_client import OpenAIClient\n",
    "from pydantic import BaseModel\n",
    "import json\n",
    "\n",
    "class QueryResponse(BaseModel):\n",
    "    answer: str\n",
    "client = OpenAIClient(role = \"You talk only as a pirate\", reasoning={'effort':'minimal'}, verbosity='low')\n"
   ]
  },
  {
   "cell_type": "code",
   "execution_count": null,
   "id": "c19bb7fb",
   "metadata": {},
   "outputs": [],
   "source": [
    "\n",
    "\n",
    "res = client.invoke(query=\"What is javascript?\",\n",
    "        json_schema=QueryResponse\n",
    "    )['text']\n",
    "json.loads(res)\n"
   ]
  },
  {
   "cell_type": "code",
   "execution_count": null,
   "id": "9c21709e",
   "metadata": {},
   "outputs": [],
   "source": [
    "# use input in notebook to interactively chat with user using chatbot\n",
    "while True:\n",
    "    user_input = input(\"User: \")\n",
    "    if user_input.lower() in ['exit', 'quit']:\n",
    "        print(\"Exiting chat.\")\n",
    "        break\n",
    "    response = client.invoke(query=user_input, json_schema=QueryResponse)\n",
    "    print(f\"AI: {response.answer}\")"
   ]
  },
  {
   "cell_type": "code",
   "execution_count": null,
   "id": "1a2b5c04",
   "metadata": {},
   "outputs": [],
   "source": [
    "react_prompt = \"\"\"Answer the following questions as best you can. You have access to the tools provided.\n",
    "\n",
    "Use the following format:\n",
    "\n",
    "Question: the input question you must answer\n",
    "\n",
    "Thought: you should always think about what to do. \n",
    "Action: The next action to take, either a tool or a generation or a thought\n",
    "Observation: the result of the action\n",
    "FinalAnswer: None\n",
    "\n",
    "\n",
    "Thought: Next step based on the observation. This can also be an additional step that you need to take based on the information.\n",
    "Action: The next action to take, either a tool or a generation or a thought\n",
    "Observation: the result of the action\n",
    "FinalAnswer: None\n",
    "\n",
    "Thought: Now I know the final answer\n",
    "FinalAnswer: The final answer to the original input question based on all the evidence so far. \n",
    "\n",
    "1. (Thought/Action/Observation/FinalAnswer can be repeated zero or more times)\n",
    "2. FinalAnswer is None until the end, when it has the final answer to the original input question\n",
    "3. If the thoughts, actions and observations which have happened so far are sufficient for the final answer, then your next thought must be \"Now I know the final answer\"\n",
    "4. If you see an observation as the last step, generate a thought\n",
    "5. If the thought says \"Now I know the final answer\", then read the full coversation and action results so far and give the final answer\n",
    "6. The user starts with the question and you generate the first thought\n",
    "7. If you notice that some thoughts and actions have already happened after the conversation starts, you should continue from there\n",
    "\n",
    "Begin!\"\"\"\n",
    "\n",
    "class Thought(BaseModel):\n",
    "    thought: str\n",
    "\n",
    "class FinalAnswer(BaseModel):\n",
    "    final_answer: str\n",
    "    \n",
    "max_iter = 3\n",
    "convo_so_far = \"\"\n",
    "\n",
    "user_question = \"What are the latest developments in artificial intelligence? Also tell me which topics are part of top AI Research and curriculums?\"\n",
    "for i in range(max_iter):\n",
    "    thought_client = OpenAIClient(role = \"You are an expert agent that can think and use tools to answer user questions\")"
   ]
  }
 ],
 "metadata": {
  "kernelspec": {
   "display_name": ".venv",
   "language": "python",
   "name": "python3"
  },
  "language_info": {
   "codemirror_mode": {
    "name": "ipython",
    "version": 3
   },
   "file_extension": ".py",
   "mimetype": "text/x-python",
   "name": "python",
   "nbconvert_exporter": "python",
   "pygments_lexer": "ipython3",
   "version": "3.12.3"
  }
 },
 "nbformat": 4,
 "nbformat_minor": 5
}
