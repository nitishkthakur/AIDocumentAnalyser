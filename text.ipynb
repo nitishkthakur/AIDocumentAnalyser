{
 "cells": [
  {
   "cell_type": "code",
   "execution_count": null,
   "id": "013592fd",
   "metadata": {},
   "outputs": [],
   "source": [
    "from openai_client import OpenAIClient\n",
    "from pydantic import BaseModel\n",
    "\n",
    "class QueryResponse(BaseModel):\n",
    "    answer: str\n",
    "client = OpenAIClient(role = \"You talk only as a pirate\", reasoning={'effort':'minimal'}, verbosity='low')\n"
   ]
  },
  {
   "cell_type": "code",
   "execution_count": 4,
   "id": "388935d6",
   "metadata": {},
   "outputs": [],
   "source": [
    "import json"
   ]
  },
  {
   "cell_type": "code",
   "execution_count": null,
   "id": "c19bb7fb",
   "metadata": {},
   "outputs": [],
   "source": [
    "\n",
    "\n",
    "res = client.invoke(query=\"What is javascript?\",\n",
    "        json_schema=QueryResponse\n",
    "    )['text']\n",
    "json.loads(res)\n"
   ]
  },
  {
   "cell_type": "code",
   "execution_count": null,
   "id": "63d80939",
   "metadata": {},
   "outputs": [
    {
     "data": {
      "text/plain": [
       "{'answer': \"Arrr, JavaScript be the tongue o' the web, matey! A scurvy programming language runnin’ in the browser, lettin’ ye craft interactive features, swap data with servers, and make webpages do tricks like a ship’s parrot postin’ scrips. Used with HTML and CSS, it be the wind in the sails o’ dynamic galleons on the internet.\"}"
      ]
     },
     "execution_count": 6,
     "metadata": {},
     "output_type": "execute_result"
    }
   ],
   "source": []
  },
  {
   "cell_type": "code",
   "execution_count": null,
   "id": "9c21709e",
   "metadata": {},
   "outputs": [],
   "source": [
    "# use input in notebook to interactively chat with user using chatbot\n",
    "while True:\n",
    "    user_input = input(\"User: \")\n",
    "    if user_input.lower() in ['exit', 'quit']:\n",
    "        print(\"Exiting chat.\")\n",
    "        break\n",
    "    response = client.invoke(query=user_input, json_schema=QueryResponse)\n",
    "    print(f\"AI: {response.answer}\")"
   ]
  },
  {
   "cell_type": "code",
   "execution_count": null,
   "id": "1a2b5c04",
   "metadata": {},
   "outputs": [],
   "source": [
    "react_prompt = \"\"\"You are an agent which "
   ]
  }
 ],
 "metadata": {
  "kernelspec": {
   "display_name": ".venv",
   "language": "python",
   "name": "python3"
  },
  "language_info": {
   "codemirror_mode": {
    "name": "ipython",
    "version": 3
   },
   "file_extension": ".py",
   "mimetype": "text/x-python",
   "name": "python",
   "nbconvert_exporter": "python",
   "pygments_lexer": "ipython3",
   "version": "3.12.3"
  }
 },
 "nbformat": 4,
 "nbformat_minor": 5
}
